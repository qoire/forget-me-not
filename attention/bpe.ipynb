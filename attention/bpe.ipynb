{
 "cells": [
  {
   "cell_type": "markdown",
   "metadata": {},
   "source": [
    "# Byte Pair Encoding\n",
    "- Start with a small vocabulary (for our ease of use let's just assume only ASCII characters)\n",
    "- \"Learn\" new vocabulary by scanning through corpus, use frequency of sub-sequence appearence to learn the most important new vocubulary\n",
    "\n",
    "For our purposes, let's start by examining a large english language corpus, and selecting our starting vocabulary to be some of the most\n",
    "popular elements in said corpus. We need to first download the wikitext corpus into our data folder. This notebook will assume you have\n",
    "already done so."
   ]
  },
  {
   "cell_type": "code",
   "execution_count": 1,
   "metadata": {},
   "outputs": [
    {
     "name": "stdout",
     "output_type": "stream",
     "text": [
      "{'s', 'j', 'd', 'k', 'a', 'n', 'y', 'g', 't', 'u', 'm', 'q', 'i', 'e', 'p', 'l', 'x', 'v', 'h', 'o', 'f', 'z', 'r', 'b', 'c'}\n"
     ]
    }
   ],
   "source": [
    "init_vocab = {\n",
    "    'a', 'b', 'c', 'd', 'e', 'f',\n",
    "    'g', 'h', 'i', 'j', 'k', 'l',\n",
    "    'm', 'n', 'o', 'p', 'q', 'r',\n",
    "    's', 't', 'u', 'v', 'x', 'y',\n",
    "    'z',\n",
    "}"
   ]
  }
 ],
 "metadata": {
  "kernelspec": {
   "display_name": ".venv",
   "language": "python",
   "name": "python3"
  },
  "language_info": {
   "codemirror_mode": {
    "name": "ipython",
    "version": 3
   },
   "file_extension": ".py",
   "mimetype": "text/x-python",
   "name": "python",
   "nbconvert_exporter": "python",
   "pygments_lexer": "ipython3",
   "version": "3.11.9"
  }
 },
 "nbformat": 4,
 "nbformat_minor": 2
}

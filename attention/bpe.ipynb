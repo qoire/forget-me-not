{
 "cells": [
  {
   "cell_type": "markdown",
   "metadata": {},
   "source": [
    "# Byte Pair Encoding\n",
    "- Start with a small vocabulary (for our ease of use let's just assume only ASCII characters)\n",
    "- \"Learn\" new vocabulary by scanning through corpus, use frequency of sub-sequence appearence to learn the most important new vocubulary\n",
    "\n",
    "For simplicity, let's limit our vocabulary to only uppercase and lowercase ASCII, plus numbers. We will first purge the corpus of all other symbols while preserving spaces, note that this is not a realistic scenario."
   ]
  },
  {
   "cell_type": "code",
   "execution_count": 4,
   "metadata": {},
   "outputs": [],
   "source": [
    "# Imports\n",
    "import numpy as np\n",
    "import pyarrow.parquet as pq\n",
    "import pandas as pd\n",
    "import os\n",
    "import re"
   ]
  },
  {
   "cell_type": "code",
   "execution_count": 5,
   "metadata": {},
   "outputs": [
    {
     "name": "stdout",
     "output_type": "stream",
     "text": [
      "corpus size: 575352\n",
      "initial vocab size: 62\n",
      "initial vocab: {'g', 'T', 'x', 'i', 'N', 'z', 'v', 'Z', 'm', 'B', 'u', 'E', 'W', 'p', 'o', '3', 't', '9', '7', 'b', 'q', '1', '8', 'a', 'j', 'F', '5', '4', 'X', 'Y', '2', 'J', '0', 'l', 'C', 'w', 'd', 'S', 'y', 'R', 'Q', 'A', 'c', 'D', 'H', 'k', 'U', 'M', '6', 'O', 'G', 'e', 'P', 'r', 's', 'I', 'V', 'L', 'h', 'f', 'n', 'K'}\n"
     ]
    }
   ],
   "source": [
    "# Load corpus, read all lines into memory, clean, then extract all characters, whitespace symbols\n",
    "from pathlib import Path\n",
    "from typing import List\n",
    "\n",
    "\n",
    "WIKITEXT_PATH = \"../data/Salesforce/wikitext/wikitext-103-raw-v1\"\n",
    "TRAIN_SET = [\"train-00000-of-00002.parquet\", \"train-00001-of-00002.parquet\"]\n",
    "TRAIN_SET_PATHS = [os.path.join(WIKITEXT_PATH, p) for p in TRAIN_SET]\n",
    "corpus = pq.ParquetDataset(TRAIN_SET_PATHS).read().to_pandas()\n",
    "\n",
    "# Clean the corpus of whitespace symbols (assume they're not useful to us)\n",
    "clear_ws_pattern = re.compile(r\"[^a-zA-Z0-9]\")\n",
    "\n",
    "def clean_corpus(txt: str) -> str:\n",
    "    spaced_txt = clear_ws_pattern.sub(' ', txt)\n",
    "    return ' '.join(spaced_txt.strip().split())\n",
    "\n",
    "corpus[\"text_clean\"] = corpus[\"text\"].apply(clean_corpus)\n",
    "\n",
    "# Now start a dictionary of character counts (importance)\n",
    "char_count_dict = {\n",
    "    \"a\": 0  # as an example\n",
    "}\n",
    "\n",
    "def count_chars(txt: str) -> None:\n",
    "    global char_count_dict\n",
    "    # kind of like bag of words (bag of chars?)\n",
    "    for c in list(txt):\n",
    "        if c not in char_count_dict:\n",
    "            char_count_dict[c] = 0\n",
    "        char_count_dict[c] += 1\n",
    "\n",
    "# Okay now the \"cleaning\" is done, we can start applying character and word counts\n",
    "# Count character sum in corpus (not _really_ needded, just for viz)\n",
    "for index, txt in corpus[\"text_clean\"].items():\n",
    "    count_chars(txt)\n",
    "\n",
    "# Removal all empty rows\n",
    "corpus = corpus[corpus[\"text_clean\"].str.len() > 0]\n",
    "\n",
    "# Count characters, then sort into descending order, delete the space parameter (considered whitespace)\n",
    "# Note: the sorting is purely for visualization, it is not needed\n",
    "del char_count_dict[' ']\n",
    "char_count_dict = dict(sorted(char_count_dict.items(), key=lambda x: x[1], reverse=True))\n",
    "\n",
    "# This forms our initial character set\n",
    "# Note: why are we going through all this trouble to get a corpus? We originally extended to chars\n",
    "# beyond just alphanum\n",
    "char_set = set(char_count_dict.keys())\n",
    "\n",
    "# Now we need to generate our initial word set, same as char_count_dict\n",
    "# (basically bag-of-words)\n",
    "word_count_dict = {}\n",
    "\n",
    "def count_words(txt: str) -> None:\n",
    "    global word_count_dict\n",
    "\n",
    "    words = txt.split(' ')\n",
    "    for word in words:\n",
    "        if word not in word_count_dict:\n",
    "            word_count_dict[word] = 0\n",
    "        word_count_dict[word] += 1\n",
    "\n",
    "for index, txt in corpus[\"text_clean\"].items():\n",
    "    count_words(txt)\n",
    "\n",
    "print(\"corpus size:\", len(word_count_dict))\n",
    "print(\"initial vocab size:\", len(char_count_dict))\n",
    "\n",
    "# Should be 64 (a-zA-Z0-9)\n",
    "print(\"initial vocab:\", char_set)"
   ]
  },
  {
   "cell_type": "markdown",
   "metadata": {},
   "source": [
    "Now we apply the \"merging\" strategy, essentially merge the most popular/frequent characters in the corpus into new characters, and subsequently replace those characters with our new characters.\n",
    "\n",
    "As an example: `m,a,t`, may become `m,at` if `at` is popular enough.\n",
    "\n",
    "To give an example, suppose we have example words: `cat`, `sat`, `hat`, `brat`, `broken`. We can see that common character pairs are `(a, t)`, `(b, r)`\n",
    "both of which appear more than once. When we apply a \"merge\", we will merge the most popular character pairs.\n",
    "\n",
    "The stopping function is typically when vocabulary size reaches a desired limit (ex. 1000), but I'd also like to try a stopping function based on the frequency of each pair. (ex. suppose frequency of `(x, y)` drops below 1% of total corpus and is our next best pair, we stop)."
   ]
  },
  {
   "cell_type": "code",
   "execution_count": 6,
   "metadata": {},
   "outputs": [],
   "source": [
    "def calc_split_pairs(splits: dict[str, list[str]], word_counts: dict[str, int]) -> tuple[tuple[str, str], int]:\n",
    "    # identifies the top pair from splits, generates pair from splits\n",
    "    # this must be regenerated each time splits change\n",
    "    split_pair_count = {}    \n",
    "    for word, split in splits.items():\n",
    "        for i in range(len(split) - 1):\n",
    "            pair = (split[i], split[i + 1])\n",
    "\n",
    "            if pair not in split_pair_count:\n",
    "                split_pair_count[pair] = 0\n",
    "            split_pair_count[pair] += word_counts[word]\n",
    "    \n",
    "    max_pair = None\n",
    "    max_count = 0\n",
    "    for pair, count in split_pair_count.items():\n",
    "        if count > max_count:\n",
    "            max_pair = pair\n",
    "            max_count = count\n",
    "    return (max_pair, max_count)\n",
    "\n",
    "def merge_splits(splits: dict[str, list[str]], pair: tuple[str, str]) -> None:\n",
    "    # TODO: is there a more efficient query structure? perhaps an inverse map\n",
    "    # from pairs -> words?\n",
    "    merged = pair[0] + pair[1]\n",
    "    for word, split in splits.items():\n",
    "        # there is probably a more efficient way to do this comparison\n",
    "        for i in range(len(split) - 1):\n",
    "            # because we're popping elements, i >= len(split) - 1, therefore\n",
    "            # we need to do an additional check to exit the loop\n",
    "            if i >= len(split) - 1:\n",
    "                break\n",
    "\n",
    "            if split[i] == pair[0] and split[i + 1] == pair[1]:\n",
    "                # if we find a match, we need to merge this entry\n",
    "                split[i] = merged\n",
    "                split.pop(i + 1)"
   ]
  },
  {
   "cell_type": "markdown",
   "metadata": {},
   "source": [
    "So the general strategy is:\n",
    "- From splits, generate a pair -> count table\n",
    "- Find the top ranked pair (max_pair)\n",
    "- Go back and update splits to replace sub-pair in split, to merged pair (ex. `(t, h) becomes th`)\n",
    "- Loop back to top, and find next max_pair, do this until criteria is met.\n",
    "\n",
    "Let's first try the target vocabulary criteria. We will run until we hit 100 vocabulary words (so roughly 40 extra new merges)"
   ]
  },
  {
   "cell_type": "code",
   "execution_count": null,
   "metadata": {},
   "outputs": [
    {
     "name": "stdout",
     "output_type": "stream",
     "text": [
      "1 max_pair, max_count ('ar', 'k') 138393\n",
      "2 max_pair, max_count ('A', 'n') 138087\n",
      "3 max_pair, max_count ('c', 'ent') 137841\n",
      "4 max_pair, max_count ('ab', 'le') 136648\n",
      "5 max_pair, max_count ('ad', 'e') 136536\n",
      "6 max_pair, max_count ('m', 'on') 136099\n",
      "7 max_pair, max_count ('the', 'y') 135793\n",
      "8 max_pair, max_count ('in', 'cl') 134373\n",
      "9 max_pair, max_count ('u', 'e') 134268\n",
      "10 max_pair, max_count ('it', 'e') 134267\n",
      "11 max_pair, max_count ('an', 'g') 134086\n",
      "12 max_pair, max_count ('a', 'il') 133774\n",
      "13 max_pair, max_count ('U', 'n') 132786\n",
      "14 max_pair, max_count ('wor', 'k') 132091\n",
      "15 max_pair, max_count ('e', 'ver') 131766\n",
      "16 max_pair, max_count ('c', 'ed') 131612\n",
      "17 max_pair, max_count ('f', 'f') 131229\n",
      "18 max_pair, max_count ('a', 'ir') 130917\n",
      "19 max_pair, max_count ('c', 'r') 130712\n",
      "20 max_pair, max_count ('s', 'ion') 130606\n",
      "21 max_pair, max_count ('cor', 'd') 130382\n",
      "22 max_pair, max_count ('tim', 'e') 130098\n"
     ]
    },
    {
     "ename": "KeyboardInterrupt",
     "evalue": "",
     "output_type": "error",
     "traceback": [
      "\u001b[0;31m---------------------------------------------------------------------------\u001b[0m",
      "\u001b[0;31mKeyboardInterrupt\u001b[0m                         Traceback (most recent call last)",
      "Cell \u001b[0;32mIn[9], line 8\u001b[0m\n\u001b[1;32m      6\u001b[0m \u001b[38;5;28;01mwhile\u001b[39;00m \u001b[38;5;28mlen\u001b[39m(vocab_set) \u001b[38;5;241m<\u001b[39m TARGET_VOCAB_SIZE:\n\u001b[1;32m      7\u001b[0m     it \u001b[38;5;241m+\u001b[39m\u001b[38;5;241m=\u001b[39m \u001b[38;5;241m1\u001b[39m\n\u001b[0;32m----> 8\u001b[0m     (max_pair, max_count) \u001b[38;5;241m=\u001b[39m \u001b[43mcalc_split_pairs\u001b[49m\u001b[43m(\u001b[49m\u001b[43msplits\u001b[49m\u001b[38;5;241;43m=\u001b[39;49m\u001b[43msplits\u001b[49m\u001b[43m,\u001b[49m\u001b[43m \u001b[49m\u001b[43mword_counts\u001b[49m\u001b[38;5;241;43m=\u001b[39;49m\u001b[43mword_count_dict\u001b[49m\u001b[43m)\u001b[49m\n\u001b[1;32m      9\u001b[0m     \u001b[38;5;28mprint\u001b[39m(it, \u001b[38;5;124m\"\u001b[39m\u001b[38;5;124mmax_pair, max_count\u001b[39m\u001b[38;5;124m\"\u001b[39m, max_pair, max_count)\n\u001b[1;32m     10\u001b[0m     \u001b[38;5;66;03m# then merge relevant splits so we can calculate again\u001b[39;00m\n",
      "Cell \u001b[0;32mIn[6], line 23\u001b[0m, in \u001b[0;36mcalc_split_pairs\u001b[0;34m(splits, word_counts)\u001b[0m\n\u001b[1;32m     21\u001b[0m         \u001b[38;5;28;01mif\u001b[39;00m pair \u001b[38;5;129;01mnot\u001b[39;00m \u001b[38;5;129;01min\u001b[39;00m split_pair_count:\n\u001b[1;32m     22\u001b[0m             split_pair_count[pair] \u001b[38;5;241m=\u001b[39m \u001b[38;5;241m0\u001b[39m\n\u001b[0;32m---> 23\u001b[0m         split_pair_count[pair] \u001b[38;5;241m+\u001b[39m\u001b[38;5;241m=\u001b[39m word_counts[word]\n\u001b[1;32m     25\u001b[0m max_pair \u001b[38;5;241m=\u001b[39m \u001b[38;5;28;01mNone\u001b[39;00m\n\u001b[1;32m     26\u001b[0m max_count \u001b[38;5;241m=\u001b[39m \u001b[38;5;241m0\u001b[39m\n",
      "\u001b[0;31mKeyboardInterrupt\u001b[0m: "
     ]
    }
   ],
   "source": [
    "# splits are responsible for keeping track of how each word is split\n",
    "# as an example: cat can be [\"c\", \"a\", \"t\"] or [\"c\", \"at\"], splits should represet\n",
    "# the current state of our vocabulary. So if we add the \"at\" token to our vocab, the splits\n",
    "# also need to get updated to reflect that, our character pair in turn is updated each time\n",
    "# split is updated, so that after sorting we have the new largest pair\n",
    "\n",
    "# intuitively one can see that (\"c\", \"a\"), will likely be more general than (\"c\", \"at\"), so BPE\n",
    "# will likely \"learn\" shorter pairs first (but not always, depending on corpus).\n",
    "# see: https://huggingface.co/learn/nlp-course/en/chapter6/5 for more info\n",
    "\n",
    "splits = {word: [c for c in word] for word in word_count_dict.keys()}\n",
    "\n",
    "# Begin runs here\n",
    "TARGET_VOCAB_SIZE = 100\n",
    "\n",
    "vocab_set = char_set.copy()\n",
    "it = 0\n",
    "while len(vocab_set) < TARGET_VOCAB_SIZE:\n",
    "    it += 1\n",
    "    (max_pair, max_count) = calc_split_pairs(splits=splits, word_counts=word_count_dict)\n",
    "    print(it, \"max_pair, max_count\", max_pair, max_count)\n",
    "    # then merge relevant splits so we can calculate again\n",
    "    vocab_set.add(max_pair[0] + max_pair[1])\n",
    "    merge_splits(splits=splits, pair=max_pair)"
   ]
  },
  {
   "cell_type": "code",
   "execution_count": null,
   "metadata": {},
   "outputs": [],
   "source": []
  }
 ],
 "metadata": {
  "kernelspec": {
   "display_name": ".venv",
   "language": "python",
   "name": "python3"
  },
  "language_info": {
   "codemirror_mode": {
    "name": "ipython",
    "version": 3
   },
   "file_extension": ".py",
   "mimetype": "text/x-python",
   "name": "python",
   "nbconvert_exporter": "python",
   "pygments_lexer": "ipython3",
   "version": "3.11.9"
  }
 },
 "nbformat": 4,
 "nbformat_minor": 2
}
